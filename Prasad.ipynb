{
 "cells": [
  {
   "cell_type": "code",
   "execution_count": 29,
   "metadata": {},
   "outputs": [],
   "source": [
    "import numpy as np\n",
    "import pandas as pd\n",
    "import matplotlib as plt\n",
    "import seaborn as sns\n",
    "\n",
    "\n",
    "from sklearn.model_selection import train_test_split, GridSearchCV\n",
    "from sklearn.datasets import make_classification\n",
    "from sklearn.tree import DecisionTreeClassifier, plot_tree\n",
    "from sklearn.neighbors import KNeighborsClassifier\n",
    "from sklearn.preprocessing import OneHotEncoder\n",
    "from sklearn.metrics import mean_squared_error\n",
    "from sklearn.ensemble import RandomForestClassifier"
   ]
  },
  {
   "cell_type": "markdown",
   "metadata": {},
   "source": [
    "# Import the data"
   ]
  },
  {
   "cell_type": "code",
   "execution_count": 30,
   "metadata": {},
   "outputs": [],
   "source": [
    "df = pd.read_csv(\"1ResearchProjectData.csv\")"
   ]
  },
  {
   "cell_type": "markdown",
   "metadata": {},
   "source": [
    "# Preprocess the data"
   ]
  },
  {
   "cell_type": "markdown",
   "metadata": {},
   "source": [
    "## Replace the name of teacher with 1, 2 or 3\n",
    " Ruger = 1\n",
    " Wesson = 2\n",
    " Smith = 3\n",
    "## Replace lunch status with 0 and 1\n",
    " Free lunch = 0\n",
    " Paid lunch = 1\n",
    "## Replace Gender with 1's and 0's\n",
    " Female = 0\n",
    " Male = 1\n",
    "## Replace ethinicity with 1 through 4\n",
    " African American = 1\n",
    " Hispanic = 2\n",
    " Caucasian = 3\n",
    " Asian = 4\n"
   ]
  },
  {
   "cell_type": "code",
   "execution_count": 32,
   "metadata": {},
   "outputs": [],
   "source": [
    "df = df.drop(columns=['wesson'])\n",
    "df = df.drop(columns=['Student'])\n",
    "df = df.dropna()\n",
    "# Teacher\n",
    "df.replace('Ruger',1,inplace=True)\n",
    "df.replace('Wesson',2,inplace=True)\n",
    "df.replace('Smith',3,inplace=True)\n",
    "\n",
    "# Lunch status\n",
    "df.replace('Free lunch',0,inplace=True)\n",
    "df.replace('Paid lunch',1,inplace=True)\n",
    "\n",
    "# Gender:\n",
    "df.replace('Female',0,inplace=True)\n",
    "df.replace('Male',1,inplace=True)\n",
    "\n",
    "#Ethnicity\n",
    "df.replace('African-American',1,inplace=True)\n",
    "df.replace('Hispanic',2,inplace=True)\n",
    "df.replace('Caucasian',3,inplace=True)\n",
    "df.replace('Asian',4,inplace=True)"
   ]
  },
  {
   "cell_type": "code",
   "execution_count": 33,
   "metadata": {},
   "outputs": [
    {
     "name": "stderr",
     "output_type": "stream",
     "text": [
      "/var/folders/td/4gbkcr014tv3dc_zms9z1h4m0000gn/T/ipykernel_20803/1092744638.py:2: FutureWarning: this method is deprecated in favour of `Styler.format(precision=..)`\n",
      "  CorrM.style.background_gradient(cmap='coolwarm').set_precision(2)\n"
     ]
    },
    {
     "data": {
      "text/html": [
       "<style type=\"text/css\">\n",
       "#T_0444e_row0_col0, #T_0444e_row1_col1, #T_0444e_row2_col2, #T_0444e_row3_col3, #T_0444e_row4_col4 {\n",
       "  background-color: #b40426;\n",
       "  color: #f1f1f1;\n",
       "}\n",
       "#T_0444e_row0_col1 {\n",
       "  background-color: #688aef;\n",
       "  color: #f1f1f1;\n",
       "}\n",
       "#T_0444e_row0_col2, #T_0444e_row0_col3 {\n",
       "  background-color: #5f7fe8;\n",
       "  color: #f1f1f1;\n",
       "}\n",
       "#T_0444e_row0_col4 {\n",
       "  background-color: #cad8ef;\n",
       "  color: #000000;\n",
       "}\n",
       "#T_0444e_row1_col0, #T_0444e_row1_col2, #T_0444e_row1_col4, #T_0444e_row4_col1, #T_0444e_row4_col3 {\n",
       "  background-color: #3b4cc0;\n",
       "  color: #f1f1f1;\n",
       "}\n",
       "#T_0444e_row1_col3 {\n",
       "  background-color: #4b64d5;\n",
       "  color: #f1f1f1;\n",
       "}\n",
       "#T_0444e_row2_col0 {\n",
       "  background-color: #445acc;\n",
       "  color: #f1f1f1;\n",
       "}\n",
       "#T_0444e_row2_col1 {\n",
       "  background-color: #4e68d8;\n",
       "  color: #f1f1f1;\n",
       "}\n",
       "#T_0444e_row2_col3 {\n",
       "  background-color: #506bda;\n",
       "  color: #f1f1f1;\n",
       "}\n",
       "#T_0444e_row2_col4 {\n",
       "  background-color: #5a78e4;\n",
       "  color: #f1f1f1;\n",
       "}\n",
       "#T_0444e_row3_col0, #T_0444e_row4_col2 {\n",
       "  background-color: #485fd1;\n",
       "  color: #f1f1f1;\n",
       "}\n",
       "#T_0444e_row3_col1 {\n",
       "  background-color: #6282ea;\n",
       "  color: #f1f1f1;\n",
       "}\n",
       "#T_0444e_row3_col2 {\n",
       "  background-color: #5470de;\n",
       "  color: #f1f1f1;\n",
       "}\n",
       "#T_0444e_row3_col4 {\n",
       "  background-color: #516ddb;\n",
       "  color: #f1f1f1;\n",
       "}\n",
       "#T_0444e_row4_col0 {\n",
       "  background-color: #a9c6fd;\n",
       "  color: #000000;\n",
       "}\n",
       "</style>\n",
       "<table id=\"T_0444e_\">\n",
       "  <thead>\n",
       "    <tr>\n",
       "      <th class=\"blank level0\" >&nbsp;</th>\n",
       "      <th class=\"col_heading level0 col0\" >Teacher</th>\n",
       "      <th class=\"col_heading level0 col1\" >Gender</th>\n",
       "      <th class=\"col_heading level0 col2\" >Ethnic</th>\n",
       "      <th class=\"col_heading level0 col3\" >Freeredu</th>\n",
       "      <th class=\"col_heading level0 col4\" >Score</th>\n",
       "    </tr>\n",
       "  </thead>\n",
       "  <tbody>\n",
       "    <tr>\n",
       "      <th id=\"T_0444e_level0_row0\" class=\"row_heading level0 row0\" >Teacher</th>\n",
       "      <td id=\"T_0444e_row0_col0\" class=\"data row0 col0\" >1.00</td>\n",
       "      <td id=\"T_0444e_row0_col1\" class=\"data row0 col1\" >0.04</td>\n",
       "      <td id=\"T_0444e_row0_col2\" class=\"data row0 col2\" >0.07</td>\n",
       "      <td id=\"T_0444e_row0_col3\" class=\"data row0 col3\" >0.08</td>\n",
       "      <td id=\"T_0444e_row0_col4\" class=\"data row0 col4\" >0.36</td>\n",
       "    </tr>\n",
       "    <tr>\n",
       "      <th id=\"T_0444e_level0_row1\" class=\"row_heading level0 row1\" >Gender</th>\n",
       "      <td id=\"T_0444e_row1_col0\" class=\"data row1 col0\" >0.04</td>\n",
       "      <td id=\"T_0444e_row1_col1\" class=\"data row1 col1\" >1.00</td>\n",
       "      <td id=\"T_0444e_row1_col2\" class=\"data row1 col2\" >-0.06</td>\n",
       "      <td id=\"T_0444e_row1_col3\" class=\"data row1 col3\" >0.01</td>\n",
       "      <td id=\"T_0444e_row1_col4\" class=\"data row1 col4\" >-0.13</td>\n",
       "    </tr>\n",
       "    <tr>\n",
       "      <th id=\"T_0444e_level0_row2\" class=\"row_heading level0 row2\" >Ethnic</th>\n",
       "      <td id=\"T_0444e_row2_col0\" class=\"data row2 col0\" >0.07</td>\n",
       "      <td id=\"T_0444e_row2_col1\" class=\"data row2 col1\" >-0.06</td>\n",
       "      <td id=\"T_0444e_row2_col2\" class=\"data row2 col2\" >1.00</td>\n",
       "      <td id=\"T_0444e_row2_col3\" class=\"data row2 col3\" >0.03</td>\n",
       "      <td id=\"T_0444e_row2_col4\" class=\"data row2 col4\" >-0.01</td>\n",
       "    </tr>\n",
       "    <tr>\n",
       "      <th id=\"T_0444e_level0_row3\" class=\"row_heading level0 row3\" >Freeredu</th>\n",
       "      <td id=\"T_0444e_row3_col0\" class=\"data row3 col0\" >0.08</td>\n",
       "      <td id=\"T_0444e_row3_col1\" class=\"data row3 col1\" >0.01</td>\n",
       "      <td id=\"T_0444e_row3_col2\" class=\"data row3 col2\" >0.03</td>\n",
       "      <td id=\"T_0444e_row3_col3\" class=\"data row3 col3\" >1.00</td>\n",
       "      <td id=\"T_0444e_row3_col4\" class=\"data row3 col4\" >-0.04</td>\n",
       "    </tr>\n",
       "    <tr>\n",
       "      <th id=\"T_0444e_level0_row4\" class=\"row_heading level0 row4\" >Score</th>\n",
       "      <td id=\"T_0444e_row4_col0\" class=\"data row4 col0\" >0.36</td>\n",
       "      <td id=\"T_0444e_row4_col1\" class=\"data row4 col1\" >-0.13</td>\n",
       "      <td id=\"T_0444e_row4_col2\" class=\"data row4 col2\" >-0.01</td>\n",
       "      <td id=\"T_0444e_row4_col3\" class=\"data row4 col3\" >-0.04</td>\n",
       "      <td id=\"T_0444e_row4_col4\" class=\"data row4 col4\" >1.00</td>\n",
       "    </tr>\n",
       "  </tbody>\n",
       "</table>\n"
      ],
      "text/plain": [
       "<pandas.io.formats.style.Styler at 0x7fcbd8afa460>"
      ]
     },
     "execution_count": 33,
     "metadata": {},
     "output_type": "execute_result"
    }
   ],
   "source": [
    "CorrM = df.corr()\n",
    "CorrM.style.background_gradient(cmap='coolwarm').set_precision(2)\n"
   ]
  },
  {
   "cell_type": "markdown",
   "metadata": {},
   "source": [
    "# Training test split"
   ]
  },
  {
   "cell_type": "code",
   "execution_count": 34,
   "metadata": {},
   "outputs": [],
   "source": [
    "X = pd.DataFrame(df, columns=['Gender', 'Ethnic', 'Freeredu','Score'])\n",
    "y = pd.DataFrame(df, columns=['Teacher'])\n",
    "\n",
    "\n",
    "X_train, X_test, y_train, y_test = train_test_split(X, y, test_size=0.3, random_state = 10)"
   ]
  },
  {
   "cell_type": "code",
   "execution_count": 22,
   "metadata": {},
   "outputs": [
    {
     "data": {
      "text/html": [
       "<div>\n",
       "<style scoped>\n",
       "    .dataframe tbody tr th:only-of-type {\n",
       "        vertical-align: middle;\n",
       "    }\n",
       "\n",
       "    .dataframe tbody tr th {\n",
       "        vertical-align: top;\n",
       "    }\n",
       "\n",
       "    .dataframe thead th {\n",
       "        text-align: right;\n",
       "    }\n",
       "</style>\n",
       "<table border=\"1\" class=\"dataframe\">\n",
       "  <thead>\n",
       "    <tr style=\"text-align: right;\">\n",
       "      <th></th>\n",
       "      <th>Score</th>\n",
       "    </tr>\n",
       "  </thead>\n",
       "  <tbody>\n",
       "    <tr>\n",
       "      <th>Score</th>\n",
       "      <td>1.0</td>\n",
       "    </tr>\n",
       "  </tbody>\n",
       "</table>\n",
       "</div>"
      ],
      "text/plain": [
       "       Score\n",
       "Score    1.0"
      ]
     },
     "execution_count": 22,
     "metadata": {},
     "output_type": "execute_result"
    }
   ],
   "source": []
  },
  {
   "cell_type": "markdown",
   "metadata": {},
   "source": [
    "# KNN Classifier:"
   ]
  },
  {
   "cell_type": "code",
   "execution_count": 35,
   "metadata": {},
   "outputs": [
    {
     "name": "stdout",
     "output_type": "stream",
     "text": [
      "The MSE for this model is 0.8769230769230769 and the accuracy is 0.5846153846153846\n"
     ]
    }
   ],
   "source": [
    "knn = KNeighborsClassifier(n_neighbors=6)\n",
    "\n",
    "knn.fit(X_train,y_train.values.ravel())\n",
    "yPred = knn.predict(X_test)\n",
    "\n",
    "MSE = mean_squared_error(y_true=y_test,y_pred=yPred)\n",
    "\n",
    "score = knn.score(X_test,y_test.values.ravel())\n",
    "\n",
    "print(\"The MSE for this model is {} and the accuracy is {}\".format(MSE,score))"
   ]
  },
  {
   "cell_type": "markdown",
   "metadata": {},
   "source": [
    "### Take the KNN classifer and apply grid search to find the best params:"
   ]
  },
  {
   "cell_type": "code",
   "execution_count": 36,
   "metadata": {},
   "outputs": [
    {
     "name": "stdout",
     "output_type": "stream",
     "text": [
      "{'algorithm': 'brute', 'n_neighbors': 11, 'p': 2}\n"
     ]
    }
   ],
   "source": [
    "n = np.arange(1, 20, 1)\n",
    "p = np.arange(1,3,1)\n",
    "\n",
    "params = { 'n_neighbors' : n, 'algorithm': ('auto', 'ball_tree', 'kd_tree', 'brute'), 'p': p  }# The param we want to figure out using the grid search\n",
    "kNN = KNeighborsClassifier()\n",
    "kNN_gscv = GridSearchCV(kNN, params, cv=5)# Grid search with five fold cross validation\n",
    "#fit model to data\n",
    "kNN_gscv.fit(X_train, y_train.values.ravel())\n",
    "print(kNN_gscv.best_params_)"
   ]
  },
  {
   "cell_type": "markdown",
   "metadata": {},
   "source": [
    "### Re Train the KNN clssifier with these new params:\n"
   ]
  },
  {
   "cell_type": "code",
   "execution_count": 37,
   "metadata": {},
   "outputs": [
    {
     "name": "stdout",
     "output_type": "stream",
     "text": [
      "The MSE for this model is 0.8769230769230769 and the accuracy is 0.49230769230769234\n"
     ]
    }
   ],
   "source": [
    "knn = KNeighborsClassifier(n_neighbors=11,algorithm='brute',p=2)\n",
    "\n",
    "knn.fit(X_train,y_train.values.ravel())\n",
    "yPred = knn.predict(X_test)\n",
    "\n",
    "MSE = mean_squared_error(y_true=y_test,y_pred=yPred)\n",
    "\n",
    "score = knn.score(X_test,y_test.values.ravel())\n",
    "\n",
    "print(\"The MSE for this model is {} and the accuracy is {}\".format(MSE,score))"
   ]
  },
  {
   "cell_type": "markdown",
   "metadata": {},
   "source": [
    "# Random Forest Classifier"
   ]
  },
  {
   "cell_type": "code",
   "execution_count": 38,
   "metadata": {},
   "outputs": [
    {
     "data": {
      "text/plain": [
       "0.47692307692307695"
      ]
     },
     "execution_count": 38,
     "metadata": {},
     "output_type": "execute_result"
    }
   ],
   "source": [
    "rfc = RandomForestClassifier(max_depth=9,n_estimators=100,ccp_alpha=0.002)\n",
    "rfc.fit(X_train,y_train.values.ravel())\n",
    "\n",
    "score = rfc.score(X_test,y_test.values.ravel())\n",
    "\n",
    "score\n"
   ]
  },
  {
   "cell_type": "markdown",
   "metadata": {},
   "source": [
    "## Accuracy is extremely low. Use grid search again to find the best values:"
   ]
  },
  {
   "cell_type": "code",
   "execution_count": 39,
   "metadata": {},
   "outputs": [
    {
     "name": "stdout",
     "output_type": "stream",
     "text": [
      "{'ccp_alpha': 0.008, 'max_depth': 1, 'n_estimators': 60}\n"
     ]
    }
   ],
   "source": [
    "depth = np.arange(1,50,2)\n",
    "est = np.arange(10,200,10)\n",
    "ccp_alpha = 0.001*np.arange(0,10,2)\n",
    "rfc = RandomForestClassifier()\n",
    "\n",
    "params = {'max_depth' : depth, 'n_estimators' : est, 'ccp_alpha' : ccp_alpha}\n",
    "rfc_gscv = GridSearchCV(rfc, params, cv=5)# Grid search with five fold cross validation\n",
    "#fit model to data\n",
    "rfc_gscv.fit(X_train, y_train.values.ravel())\n",
    "print(rfc_gscv.best_params_)"
   ]
  },
  {
   "cell_type": "markdown",
   "metadata": {},
   "source": [
    "## Retrain using the new best params"
   ]
  },
  {
   "cell_type": "code",
   "execution_count": 40,
   "metadata": {},
   "outputs": [
    {
     "data": {
      "text/plain": [
       "0.5230769230769231"
      ]
     },
     "execution_count": 40,
     "metadata": {},
     "output_type": "execute_result"
    }
   ],
   "source": [
    "rfc = RandomForestClassifier(max_depth=1,ccp_alpha=0.008,n_estimators=60)\n",
    "\n",
    "rfc.fit(X_train,y_train.values.ravel())\n",
    "\n",
    "score = rfc.score(X_test,y_test.values.ravel())\n",
    "\n",
    "score"
   ]
  },
  {
   "cell_type": "code",
   "execution_count": null,
   "metadata": {},
   "outputs": [],
   "source": []
  }
 ],
 "metadata": {
  "interpreter": {
   "hash": "aee8b7b246df8f9039afb4144a1f6fd8d2ca17a180786b69acc140d282b71a49"
  },
  "kernelspec": {
   "display_name": "Python 3.9.7 64-bit",
   "language": "python",
   "name": "python3"
  },
  "language_info": {
   "codemirror_mode": {
    "name": "ipython",
    "version": 3
   },
   "file_extension": ".py",
   "mimetype": "text/x-python",
   "name": "python",
   "nbconvert_exporter": "python",
   "pygments_lexer": "ipython3",
   "version": "3.9.7"
  },
  "orig_nbformat": 4
 },
 "nbformat": 4,
 "nbformat_minor": 2
}
